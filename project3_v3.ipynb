{
  "nbformat": 4,
  "nbformat_minor": 0,
  "metadata": {
    "colab": {
      "name": "project3_v3.ipynb",
      "version": "0.3.2",
      "provenance": [],
      "collapsed_sections": [
        "pqo_o0Myr_yG"
      ]
    },
    "language_info": {
      "codemirror_mode": {
        "name": "ipython",
        "version": 3
      },
      "file_extension": ".py",
      "mimetype": "text/x-python",
      "name": "python",
      "nbconvert_exporter": "python",
      "pygments_lexer": "ipython3",
      "version": "3.6.3"
    },
    "kernelspec": {
      "display_name": "Python 3",
      "language": "python",
      "name": "python3"
    }
  },
  "cells": [
    {
      "metadata": {
        "colab_type": "text",
        "id": "Ge_5CNv8r_w7"
      },
      "cell_type": "markdown",
      "source": [
        "# Mini-Project 3:  Network Intrusion Detection\n"
      ]
    },
    {
      "metadata": {
        "colab_type": "text",
        "id": "qcDX8PDJr_w9"
      },
      "cell_type": "markdown",
      "source": [
        "### Import libraries"
      ]
    },
    {
      "metadata": {
        "colab_type": "code",
        "id": "PUQv6l7Yr_w9",
        "outputId": "579caa4b-aa04-43b8-96b4-b89c80990094",
        "colab": {
          "base_uri": "https://localhost:8080/",
          "height": 34
        }
      },
      "cell_type": "code",
      "source": [
        "import os\n",
        "import pandas as pd\n",
        "import matplotlib.pyplot as plt\n",
        "from scipy.stats import zscore\n",
        "from sklearn.linear_model import LogisticRegression\n",
        "from sklearn.preprocessing import LabelEncoder\n",
        "from sklearn import metrics\n",
        "from sklearn.ensemble import ExtraTreesClassifier\n",
        "import csv\n",
        "import numpy as np\n",
        "from scipy.stats import zscore\n",
        "from sklearn.model_selection import train_test_split\n",
        "from sklearn import datasets,linear_model, preprocessing,utils\n",
        "from sklearn.metrics import mean_squared_error,r2_score\n",
        "from sklearn.preprocessing import LabelEncoder\n",
        "import matplotlib.pyplot as plt \n",
        "from sklearn.linear_model import LogisticRegression\n",
        "from sklearn.metrics import f1_score\n",
        "from sklearn.neighbors import KNeighborsClassifier\n",
        "%matplotlib inline\n",
        "from sklearn import svm\n",
        "from sklearn.naive_bayes import MultinomialNB\n",
        "from sklearn.preprocessing import MinMaxScaler\n",
        "%matplotlib inline\n",
        "from matplotlib.pyplot import figure, show\n",
        "from sklearn.metrics import f1_score\n",
        "from sklearn.metrics import accuracy_score\n",
        "from sklearn import metrics\n",
        "from sklearn.metrics import confusion_matrix, classification_report\n",
        "from sklearn.metrics import roc_curve, auc\n",
        "\n",
        "\n",
        "from keras.models import Sequential\n",
        "\n",
        "import json\n",
        "import csv\n",
        "import pandas as pd\n",
        "import numpy as np\n",
        "import sklearn.feature_extraction.text as tfidf\n",
        "from sklearn.feature_extraction.text import CountVectorizer\n",
        "from scipy.stats import zscore\n",
        "from sklearn.model_selection import train_test_split\n",
        "from sklearn import datasets,linear_model, preprocessing,utils\n",
        "from sklearn.metrics import mean_squared_error,r2_score\n",
        "from sklearn.preprocessing import LabelEncoder\n",
        "import matplotlib.pyplot as plt \n",
        "from sklearn.linear_model import LogisticRegression\n",
        "from sklearn.metrics import f1_score\n",
        "from sklearn.neighbors import KNeighborsClassifier\n",
        "%matplotlib inline\n",
        "from sklearn import svm\n",
        "from sklearn.naive_bayes import MultinomialNB\n",
        "from sklearn.preprocessing import MinMaxScaler\n",
        "%matplotlib inline\n",
        "from matplotlib.pyplot import figure, show\n",
        "\n",
        "\n",
        "\n",
        "import json\n",
        "import csv\n",
        "import pandas as pd\n",
        "import numpy as np\n",
        "import scipy as sci\n",
        "import keras\n",
        "from keras.models import Sequential\n",
        "from keras import regularizers\n",
        "from keras.layers.core import Dense, Activation\n",
        "from keras.layers import Dropout, Flatten\n",
        "from keras.layers import Conv2D, MaxPooling2D\n",
        "from keras.callbacks import EarlyStopping, ModelCheckpoint\n",
        "import io\n",
        "import requests\n",
        "import tensorflow as tf\n",
        "from scipy import sparse\n",
        "from sklearn.model_selection import train_test_split\n",
        "import sklearn.feature_extraction.text as sk_text\n",
        "from sklearn.linear_model import LinearRegression\n",
        "from sklearn.linear_model import LogisticRegression\n",
        "from sklearn.naive_bayes import MultinomialNB\n",
        "from sklearn.svm import SVC\n",
        "from sklearn.neighbors import KNeighborsClassifier\n",
        "from sklearn import preprocessing\n",
        "from sklearn.metrics import mean_squared_error, r2_score\n",
        "from sklearn.metrics import accuracy_score, precision_score, f1_score\n",
        "from sklearn.metrics import roc_curve, auc\n",
        "from sklearn.metrics import confusion_matrix, classification_report\n",
        "import collections\n",
        "from sklearn import preprocessing\n",
        "import matplotlib.pyplot as plt\n",
        "import shutil\n",
        "import os"
      ],
      "execution_count": 0,
      "outputs": [
        {
          "output_type": "stream",
          "text": [
            "Using TensorFlow backend.\n"
          ],
          "name": "stderr"
        }
      ]
    },
    {
      "metadata": {
        "colab_type": "code",
        "id": "F1hGNDW8r_xA",
        "colab": {}
      },
      "cell_type": "code",
      "source": [
        "def classify_connections(outcome):\n",
        "    if(outcome ==\"normal.\"):\n",
        "        outcome = 0  \n",
        "    else: \n",
        "        outcome = 1\n",
        "    \n",
        "    return outcome\n",
        "\n",
        "\n",
        "def Z_score(column):\n",
        "    df_network[column] = zscore(df_network[column])\n",
        "    \n",
        "def encode_text_dummy(df, name):\n",
        "    dummies = pd.get_dummies(df[name])\n",
        "    for x in dummies.columns:\n",
        "        dummy_name = \"{}-{}\".format(name, x)\n",
        "        df[dummy_name] = dummies[x]\n",
        "    df.drop(name, axis=1, inplace=True)"
      ],
      "execution_count": 0,
      "outputs": []
    },
    {
      "metadata": {
        "colab_type": "code",
        "id": "Z5Tn5nOHxNzd",
        "colab": {}
      },
      "cell_type": "code",
      "source": [
        "# Plot a confusion matrix.\n",
        "# cm is the confusion matrix, names are the names of the classes.\n",
        "def plot_confusion_matrix(cm, names, title='Confusion matrix', cmap=plt.cm.Blues):\n",
        "    plt.imshow(cm, interpolation='nearest', cmap=cmap)\n",
        "    plt.title(title)\n",
        "    plt.colorbar()\n",
        "    tick_marks = np.arange(len(names))\n",
        "    plt.xticks(tick_marks, names, rotation=45)\n",
        "    plt.yticks(tick_marks, names)\n",
        "    plt.tight_layout()\n",
        "    plt.ylabel('True label')\n",
        "    plt.xlabel('Predicted label')\n"
      ],
      "execution_count": 0,
      "outputs": []
    },
    {
      "metadata": {
        "colab_type": "code",
        "id": "oJVfDwR4yaeM",
        "colab": {}
      },
      "cell_type": "code",
      "source": [
        "# Plot an ROC. pred - the predictions, y - the expected output.\n",
        "def plot_roc(pred,y):\n",
        "    fpr, tpr, thresholds = roc_curve(y, pred)\n",
        "    roc_auc = auc(fpr, tpr)\n",
        "\n",
        "    plt.figure()\n",
        "    plt.plot(fpr, tpr, label='ROC curve (area = %0.2f)' % roc_auc)\n",
        "    plt.plot([0, 1], [0, 1], 'k--')\n",
        "    plt.xlim([0.0, 1.0])\n",
        "    plt.ylim([0.0, 1.05])\n",
        "    plt.xlabel('False Positive Rate')\n",
        "    plt.ylabel('True Positive Rate')\n",
        "    plt.title('Receiver Operating Characteristic (ROC)')\n",
        "    plt.legend(loc=\"lower right\")\n",
        "    plt.show()"
      ],
      "execution_count": 0,
      "outputs": []
    },
    {
      "metadata": {
        "colab_type": "text",
        "id": "37jloNGVr_xD"
      },
      "cell_type": "markdown",
      "source": [
        "### read network intusion detection file"
      ]
    },
    {
      "metadata": {
        "colab_type": "code",
        "id": "F4h5KV4UsFUy",
        "outputId": "4c4055e9-0fa8-4c56-e506-84f60b3d1976",
        "colab": {
          "base_uri": "https://localhost:8080/",
          "height": 34
        }
      },
      "cell_type": "code",
      "source": [
        "from google.colab import drive\n",
        "drive.mount('/content/drive')"
      ],
      "execution_count": 0,
      "outputs": [
        {
          "output_type": "stream",
          "text": [
            "Drive already mounted at /content/drive; to attempt to forcibly remount, call drive.mount(\"/content/drive\", force_remount=True).\n"
          ],
          "name": "stdout"
        }
      ]
    },
    {
      "metadata": {
        "colab_type": "code",
        "id": "6ueEuxgYr_xE",
        "colab": {}
      },
      "cell_type": "code",
      "source": [
        ""
      ],
      "execution_count": 0,
      "outputs": []
    },
    {
      "metadata": {
        "colab_type": "code",
        "id": "0EUqhCDEr_xG",
        "colab": {}
      },
      "cell_type": "code",
      "source": [
        "df_network1 = pd.read_csv(\"drive/My Drive/rr/network_intrusion_data.csv\") "
      ],
      "execution_count": 0,
      "outputs": []
    },
    {
      "metadata": {
        "colab_type": "code",
        "id": "KO-UU6lxr_xI",
        "colab": {}
      },
      "cell_type": "code",
      "source": [
        "df_network=df_network1"
      ],
      "execution_count": 0,
      "outputs": []
    },
    {
      "metadata": {
        "colab_type": "text",
        "id": "B90cIoszr_xK"
      },
      "cell_type": "markdown",
      "source": [
        "### Adding column headers"
      ]
    },
    {
      "metadata": {
        "colab_type": "code",
        "id": "kbpD9NPIr_xL",
        "colab": {}
      },
      "cell_type": "code",
      "source": [
        "df_network.columns = [\n",
        "'duration',\n",
        "'protocol_type',\n",
        "'service',\n",
        "'flag',\n",
        "'src_bytes',\n",
        "'dst_bytes',\n",
        "'land',\n",
        "'wrong_fragment',\n",
        "'urgent',\n",
        "'hot',\n",
        "'num_failed_logins',\n",
        "'logged_in',\n",
        "'num_compromised',\n",
        "'root_shell',\n",
        "'su_attempted',\n",
        "'num_root',\n",
        "'num_file_creations',\n",
        "'num_shells',\n",
        "'num_access_files',\n",
        "'num_outbound_cmds',\n",
        "'is_host_login',\n",
        "'is_guest_login',\n",
        "'count',\n",
        "'srv_count',\n",
        "'serror_rate',\n",
        "'srv_serror_rate',\n",
        "'rerror_rate',\n",
        "'srv_rerror_rate',\n",
        "'same_srv_rate',\n",
        "'diff_srv_rate',\n",
        "'srv_diff_host_rate',\n",
        "'dst_host_count',\n",
        "'dst_host_srv_count',\n",
        "'dst_host_same_srv_rate',\n",
        "'dst_host_diff_srv_rate',\n",
        "'dst_host_same_src_port_rate',\n",
        "'dst_host_srv_diff_host_rate',\n",
        "'dst_host_serror_rate',\n",
        "'dst_host_srv_serror_rate',\n",
        "'dst_host_rerror_rate',\n",
        "'dst_host_srv_rerror_rate',\n",
        "'outcome'\n",
        "]"
      ],
      "execution_count": 0,
      "outputs": []
    },
    {
      "metadata": {
        "colab_type": "code",
        "id": "MohrWD1yr_xN",
        "outputId": "78cbada6-e302-472a-f285-ada86c1a1a74",
        "colab": {
          "base_uri": "https://localhost:8080/",
          "height": 253
        }
      },
      "cell_type": "code",
      "source": [
        "df_network.head()"
      ],
      "execution_count": 0,
      "outputs": [
        {
          "output_type": "execute_result",
          "data": {
            "text/html": [
              "<div>\n",
              "<style scoped>\n",
              "    .dataframe tbody tr th:only-of-type {\n",
              "        vertical-align: middle;\n",
              "    }\n",
              "\n",
              "    .dataframe tbody tr th {\n",
              "        vertical-align: top;\n",
              "    }\n",
              "\n",
              "    .dataframe thead th {\n",
              "        text-align: right;\n",
              "    }\n",
              "</style>\n",
              "<table border=\"1\" class=\"dataframe\">\n",
              "  <thead>\n",
              "    <tr style=\"text-align: right;\">\n",
              "      <th></th>\n",
              "      <th>duration</th>\n",
              "      <th>protocol_type</th>\n",
              "      <th>service</th>\n",
              "      <th>flag</th>\n",
              "      <th>src_bytes</th>\n",
              "      <th>dst_bytes</th>\n",
              "      <th>land</th>\n",
              "      <th>wrong_fragment</th>\n",
              "      <th>urgent</th>\n",
              "      <th>hot</th>\n",
              "      <th>...</th>\n",
              "      <th>dst_host_srv_count</th>\n",
              "      <th>dst_host_same_srv_rate</th>\n",
              "      <th>dst_host_diff_srv_rate</th>\n",
              "      <th>dst_host_same_src_port_rate</th>\n",
              "      <th>dst_host_srv_diff_host_rate</th>\n",
              "      <th>dst_host_serror_rate</th>\n",
              "      <th>dst_host_srv_serror_rate</th>\n",
              "      <th>dst_host_rerror_rate</th>\n",
              "      <th>dst_host_srv_rerror_rate</th>\n",
              "      <th>outcome</th>\n",
              "    </tr>\n",
              "  </thead>\n",
              "  <tbody>\n",
              "    <tr>\n",
              "      <th>0</th>\n",
              "      <td>0</td>\n",
              "      <td>tcp</td>\n",
              "      <td>http</td>\n",
              "      <td>SF</td>\n",
              "      <td>239</td>\n",
              "      <td>486</td>\n",
              "      <td>0</td>\n",
              "      <td>0</td>\n",
              "      <td>0</td>\n",
              "      <td>0</td>\n",
              "      <td>...</td>\n",
              "      <td>19</td>\n",
              "      <td>1.0</td>\n",
              "      <td>0.0</td>\n",
              "      <td>0.05</td>\n",
              "      <td>0.0</td>\n",
              "      <td>0.0</td>\n",
              "      <td>0.0</td>\n",
              "      <td>0.0</td>\n",
              "      <td>0.0</td>\n",
              "      <td>normal.</td>\n",
              "    </tr>\n",
              "    <tr>\n",
              "      <th>1</th>\n",
              "      <td>0</td>\n",
              "      <td>tcp</td>\n",
              "      <td>http</td>\n",
              "      <td>SF</td>\n",
              "      <td>235</td>\n",
              "      <td>1337</td>\n",
              "      <td>0</td>\n",
              "      <td>0</td>\n",
              "      <td>0</td>\n",
              "      <td>0</td>\n",
              "      <td>...</td>\n",
              "      <td>29</td>\n",
              "      <td>1.0</td>\n",
              "      <td>0.0</td>\n",
              "      <td>0.03</td>\n",
              "      <td>0.0</td>\n",
              "      <td>0.0</td>\n",
              "      <td>0.0</td>\n",
              "      <td>0.0</td>\n",
              "      <td>0.0</td>\n",
              "      <td>normal.</td>\n",
              "    </tr>\n",
              "    <tr>\n",
              "      <th>2</th>\n",
              "      <td>0</td>\n",
              "      <td>tcp</td>\n",
              "      <td>http</td>\n",
              "      <td>SF</td>\n",
              "      <td>219</td>\n",
              "      <td>1337</td>\n",
              "      <td>0</td>\n",
              "      <td>0</td>\n",
              "      <td>0</td>\n",
              "      <td>0</td>\n",
              "      <td>...</td>\n",
              "      <td>39</td>\n",
              "      <td>1.0</td>\n",
              "      <td>0.0</td>\n",
              "      <td>0.03</td>\n",
              "      <td>0.0</td>\n",
              "      <td>0.0</td>\n",
              "      <td>0.0</td>\n",
              "      <td>0.0</td>\n",
              "      <td>0.0</td>\n",
              "      <td>normal.</td>\n",
              "    </tr>\n",
              "    <tr>\n",
              "      <th>3</th>\n",
              "      <td>0</td>\n",
              "      <td>tcp</td>\n",
              "      <td>http</td>\n",
              "      <td>SF</td>\n",
              "      <td>217</td>\n",
              "      <td>2032</td>\n",
              "      <td>0</td>\n",
              "      <td>0</td>\n",
              "      <td>0</td>\n",
              "      <td>0</td>\n",
              "      <td>...</td>\n",
              "      <td>49</td>\n",
              "      <td>1.0</td>\n",
              "      <td>0.0</td>\n",
              "      <td>0.02</td>\n",
              "      <td>0.0</td>\n",
              "      <td>0.0</td>\n",
              "      <td>0.0</td>\n",
              "      <td>0.0</td>\n",
              "      <td>0.0</td>\n",
              "      <td>normal.</td>\n",
              "    </tr>\n",
              "    <tr>\n",
              "      <th>4</th>\n",
              "      <td>0</td>\n",
              "      <td>tcp</td>\n",
              "      <td>http</td>\n",
              "      <td>SF</td>\n",
              "      <td>217</td>\n",
              "      <td>2032</td>\n",
              "      <td>0</td>\n",
              "      <td>0</td>\n",
              "      <td>0</td>\n",
              "      <td>0</td>\n",
              "      <td>...</td>\n",
              "      <td>59</td>\n",
              "      <td>1.0</td>\n",
              "      <td>0.0</td>\n",
              "      <td>0.02</td>\n",
              "      <td>0.0</td>\n",
              "      <td>0.0</td>\n",
              "      <td>0.0</td>\n",
              "      <td>0.0</td>\n",
              "      <td>0.0</td>\n",
              "      <td>normal.</td>\n",
              "    </tr>\n",
              "  </tbody>\n",
              "</table>\n",
              "<p>5 rows × 42 columns</p>\n",
              "</div>"
            ],
            "text/plain": [
              "   duration protocol_type service flag  src_bytes  dst_bytes  land  \\\n",
              "0         0           tcp    http   SF        239        486     0   \n",
              "1         0           tcp    http   SF        235       1337     0   \n",
              "2         0           tcp    http   SF        219       1337     0   \n",
              "3         0           tcp    http   SF        217       2032     0   \n",
              "4         0           tcp    http   SF        217       2032     0   \n",
              "\n",
              "   wrong_fragment  urgent  hot   ...     dst_host_srv_count  \\\n",
              "0               0       0    0   ...                     19   \n",
              "1               0       0    0   ...                     29   \n",
              "2               0       0    0   ...                     39   \n",
              "3               0       0    0   ...                     49   \n",
              "4               0       0    0   ...                     59   \n",
              "\n",
              "   dst_host_same_srv_rate  dst_host_diff_srv_rate  \\\n",
              "0                     1.0                     0.0   \n",
              "1                     1.0                     0.0   \n",
              "2                     1.0                     0.0   \n",
              "3                     1.0                     0.0   \n",
              "4                     1.0                     0.0   \n",
              "\n",
              "   dst_host_same_src_port_rate  dst_host_srv_diff_host_rate  \\\n",
              "0                         0.05                          0.0   \n",
              "1                         0.03                          0.0   \n",
              "2                         0.03                          0.0   \n",
              "3                         0.02                          0.0   \n",
              "4                         0.02                          0.0   \n",
              "\n",
              "   dst_host_serror_rate  dst_host_srv_serror_rate  dst_host_rerror_rate  \\\n",
              "0                   0.0                       0.0                   0.0   \n",
              "1                   0.0                       0.0                   0.0   \n",
              "2                   0.0                       0.0                   0.0   \n",
              "3                   0.0                       0.0                   0.0   \n",
              "4                   0.0                       0.0                   0.0   \n",
              "\n",
              "   dst_host_srv_rerror_rate  outcome  \n",
              "0                       0.0  normal.  \n",
              "1                       0.0  normal.  \n",
              "2                       0.0  normal.  \n",
              "3                       0.0  normal.  \n",
              "4                       0.0  normal.  \n",
              "\n",
              "[5 rows x 42 columns]"
            ]
          },
          "metadata": {
            "tags": []
          },
          "execution_count": 9
        }
      ]
    },
    {
      "metadata": {
        "colab_type": "code",
        "id": "tlt2zc4Jr_xS",
        "outputId": "0920a7d8-8973-43fe-e6a3-34811534541a",
        "colab": {
          "base_uri": "https://localhost:8080/",
          "height": 34
        }
      },
      "cell_type": "code",
      "source": [
        "df_network.shape"
      ],
      "execution_count": 0,
      "outputs": [
        {
          "output_type": "execute_result",
          "data": {
            "text/plain": [
              "(494020, 42)"
            ]
          },
          "metadata": {
            "tags": []
          },
          "execution_count": 10
        }
      ]
    },
    {
      "metadata": {
        "colab_type": "text",
        "id": "Ry3TzuY9r_xh"
      },
      "cell_type": "markdown",
      "source": [
        "###  Drop duplicates"
      ]
    },
    {
      "metadata": {
        "colab_type": "code",
        "id": "w1Z4Eylar_xi",
        "colab": {}
      },
      "cell_type": "code",
      "source": [
        "df_network = df_network.drop_duplicates()"
      ],
      "execution_count": 0,
      "outputs": []
    },
    {
      "metadata": {
        "colab_type": "code",
        "id": "-u1-zM56r_xm",
        "outputId": "79e85331-6a34-45a2-bd49-ba18835ff4ad",
        "colab": {
          "base_uri": "https://localhost:8080/",
          "height": 34
        }
      },
      "cell_type": "code",
      "source": [
        "df_network.shape"
      ],
      "execution_count": 0,
      "outputs": [
        {
          "output_type": "execute_result",
          "data": {
            "text/plain": [
              "(145585, 42)"
            ]
          },
          "metadata": {
            "tags": []
          },
          "execution_count": 12
        }
      ]
    },
    {
      "metadata": {
        "colab_type": "text",
        "id": "lqPSI5WWr_xs"
      },
      "cell_type": "markdown",
      "source": [
        "### Drop the rows where at least one element is missing"
      ]
    },
    {
      "metadata": {
        "colab_type": "code",
        "id": "plX4NLxqr_xs",
        "colab": {}
      },
      "cell_type": "code",
      "source": [
        "df_network = df_network.dropna()"
      ],
      "execution_count": 0,
      "outputs": []
    },
    {
      "metadata": {
        "colab_type": "code",
        "id": "0H3dG0xdr_xx",
        "outputId": "7e4d67d8-3274-4d18-9756-5aeb95098981",
        "colab": {
          "base_uri": "https://localhost:8080/",
          "height": 34
        }
      },
      "cell_type": "code",
      "source": [
        "df_network.shape"
      ],
      "execution_count": 0,
      "outputs": [
        {
          "output_type": "execute_result",
          "data": {
            "text/plain": [
              "(145585, 42)"
            ]
          },
          "metadata": {
            "tags": []
          },
          "execution_count": 14
        }
      ]
    },
    {
      "metadata": {
        "colab_type": "code",
        "id": "GZ33ATFRv3UC",
        "colab": {}
      },
      "cell_type": "code",
      "source": [
        "df1 =df_network.outcome.unique()"
      ],
      "execution_count": 0,
      "outputs": []
    },
    {
      "metadata": {
        "colab_type": "code",
        "id": "JqsfD0H2zDQL",
        "outputId": "b569e503-591b-4c26-9448-4a8f18ded428",
        "colab": {
          "base_uri": "https://localhost:8080/",
          "height": 34
        }
      },
      "cell_type": "code",
      "source": [
        "df1.shape"
      ],
      "execution_count": 0,
      "outputs": [
        {
          "output_type": "execute_result",
          "data": {
            "text/plain": [
              "(23,)"
            ]
          },
          "metadata": {
            "tags": []
          },
          "execution_count": 16
        }
      ]
    },
    {
      "metadata": {
        "colab_type": "text",
        "id": "GwzFwvrfGCsR"
      },
      "cell_type": "markdown",
      "source": [
        "##Getting all Unique Outcome"
      ]
    },
    {
      "metadata": {
        "colab_type": "code",
        "id": "H-fWSBtcyua2",
        "outputId": "aaa9573a-c6d9-4434-f9af-e72d407db444",
        "colab": {
          "base_uri": "https://localhost:8080/",
          "height": 102
        }
      },
      "cell_type": "code",
      "source": [
        "df_network.outcome.unique()"
      ],
      "execution_count": 0,
      "outputs": [
        {
          "output_type": "execute_result",
          "data": {
            "text/plain": [
              "array(['normal.', 'buffer_overflow.', 'loadmodule.', 'perl.', 'neptune.',\n",
              "       'smurf.', 'guess_passwd.', 'pod.', 'teardrop.', 'portsweep.',\n",
              "       'ipsweep.', 'land.', 'ftp_write.', 'back.', 'imap.', 'satan.',\n",
              "       'phf.', 'nmap.', 'multihop.', 'warezmaster.', 'warezclient.',\n",
              "       'spy.', 'rootkit.'], dtype=object)"
            ]
          },
          "metadata": {
            "tags": []
          },
          "execution_count": 126
        }
      ]
    },
    {
      "metadata": {
        "colab_type": "code",
        "id": "VrtOrB3BoqQD",
        "colab": {}
      },
      "cell_type": "code",
      "source": [
        "name = df_network.outcome.unique()"
      ],
      "execution_count": 0,
      "outputs": []
    },
    {
      "metadata": {
        "colab_type": "code",
        "id": "XxZvy3jAo_rY",
        "outputId": "9086762e-a7e8-4f2b-9a84-896f9be76901",
        "colab": {
          "base_uri": "https://localhost:8080/",
          "height": 34
        }
      },
      "cell_type": "code",
      "source": [
        "name.shape"
      ],
      "execution_count": 0,
      "outputs": [
        {
          "output_type": "execute_result",
          "data": {
            "text/plain": [
              "(23,)"
            ]
          },
          "metadata": {
            "tags": []
          },
          "execution_count": 18
        }
      ]
    },
    {
      "metadata": {
        "colab_type": "text",
        "id": "yLxonJBwr_x0"
      },
      "cell_type": "markdown",
      "source": [
        "### group by protocol type"
      ]
    },
    {
      "metadata": {
        "colab_type": "code",
        "id": "JMb04yilr_x1",
        "outputId": "03c90aa5-d35e-4101-c7d0-e0eeb4dd5ce3",
        "colab": {
          "base_uri": "https://localhost:8080/",
          "height": 222
        }
      },
      "cell_type": "code",
      "source": [
        "df_network.groupby('protocol_type').count()"
      ],
      "execution_count": 0,
      "outputs": [
        {
          "output_type": "execute_result",
          "data": {
            "text/html": [
              "<div>\n",
              "<style scoped>\n",
              "    .dataframe tbody tr th:only-of-type {\n",
              "        vertical-align: middle;\n",
              "    }\n",
              "\n",
              "    .dataframe tbody tr th {\n",
              "        vertical-align: top;\n",
              "    }\n",
              "\n",
              "    .dataframe thead th {\n",
              "        text-align: right;\n",
              "    }\n",
              "</style>\n",
              "<table border=\"1\" class=\"dataframe\">\n",
              "  <thead>\n",
              "    <tr style=\"text-align: right;\">\n",
              "      <th></th>\n",
              "      <th>duration</th>\n",
              "      <th>service</th>\n",
              "      <th>flag</th>\n",
              "      <th>src_bytes</th>\n",
              "      <th>dst_bytes</th>\n",
              "      <th>land</th>\n",
              "      <th>wrong_fragment</th>\n",
              "      <th>urgent</th>\n",
              "      <th>hot</th>\n",
              "      <th>num_failed_logins</th>\n",
              "      <th>...</th>\n",
              "      <th>dst_host_srv_count</th>\n",
              "      <th>dst_host_same_srv_rate</th>\n",
              "      <th>dst_host_diff_srv_rate</th>\n",
              "      <th>dst_host_same_src_port_rate</th>\n",
              "      <th>dst_host_srv_diff_host_rate</th>\n",
              "      <th>dst_host_serror_rate</th>\n",
              "      <th>dst_host_srv_serror_rate</th>\n",
              "      <th>dst_host_rerror_rate</th>\n",
              "      <th>dst_host_srv_rerror_rate</th>\n",
              "      <th>outcome</th>\n",
              "    </tr>\n",
              "    <tr>\n",
              "      <th>protocol_type</th>\n",
              "      <th></th>\n",
              "      <th></th>\n",
              "      <th></th>\n",
              "      <th></th>\n",
              "      <th></th>\n",
              "      <th></th>\n",
              "      <th></th>\n",
              "      <th></th>\n",
              "      <th></th>\n",
              "      <th></th>\n",
              "      <th></th>\n",
              "      <th></th>\n",
              "      <th></th>\n",
              "      <th></th>\n",
              "      <th></th>\n",
              "      <th></th>\n",
              "      <th></th>\n",
              "      <th></th>\n",
              "      <th></th>\n",
              "      <th></th>\n",
              "      <th></th>\n",
              "    </tr>\n",
              "  </thead>\n",
              "  <tbody>\n",
              "    <tr>\n",
              "      <th>icmp</th>\n",
              "      <td>2406</td>\n",
              "      <td>2406</td>\n",
              "      <td>2406</td>\n",
              "      <td>2406</td>\n",
              "      <td>2406</td>\n",
              "      <td>2406</td>\n",
              "      <td>2406</td>\n",
              "      <td>2406</td>\n",
              "      <td>2406</td>\n",
              "      <td>2406</td>\n",
              "      <td>...</td>\n",
              "      <td>2406</td>\n",
              "      <td>2406</td>\n",
              "      <td>2406</td>\n",
              "      <td>2406</td>\n",
              "      <td>2406</td>\n",
              "      <td>2406</td>\n",
              "      <td>2406</td>\n",
              "      <td>2406</td>\n",
              "      <td>2406</td>\n",
              "      <td>2406</td>\n",
              "    </tr>\n",
              "    <tr>\n",
              "      <th>tcp</th>\n",
              "      <td>130912</td>\n",
              "      <td>130912</td>\n",
              "      <td>130912</td>\n",
              "      <td>130912</td>\n",
              "      <td>130912</td>\n",
              "      <td>130912</td>\n",
              "      <td>130912</td>\n",
              "      <td>130912</td>\n",
              "      <td>130912</td>\n",
              "      <td>130912</td>\n",
              "      <td>...</td>\n",
              "      <td>130912</td>\n",
              "      <td>130912</td>\n",
              "      <td>130912</td>\n",
              "      <td>130912</td>\n",
              "      <td>130912</td>\n",
              "      <td>130912</td>\n",
              "      <td>130912</td>\n",
              "      <td>130912</td>\n",
              "      <td>130912</td>\n",
              "      <td>130912</td>\n",
              "    </tr>\n",
              "    <tr>\n",
              "      <th>udp</th>\n",
              "      <td>12267</td>\n",
              "      <td>12267</td>\n",
              "      <td>12267</td>\n",
              "      <td>12267</td>\n",
              "      <td>12267</td>\n",
              "      <td>12267</td>\n",
              "      <td>12267</td>\n",
              "      <td>12267</td>\n",
              "      <td>12267</td>\n",
              "      <td>12267</td>\n",
              "      <td>...</td>\n",
              "      <td>12267</td>\n",
              "      <td>12267</td>\n",
              "      <td>12267</td>\n",
              "      <td>12267</td>\n",
              "      <td>12267</td>\n",
              "      <td>12267</td>\n",
              "      <td>12267</td>\n",
              "      <td>12267</td>\n",
              "      <td>12267</td>\n",
              "      <td>12267</td>\n",
              "    </tr>\n",
              "  </tbody>\n",
              "</table>\n",
              "<p>3 rows × 41 columns</p>\n",
              "</div>"
            ],
            "text/plain": [
              "               duration  service    flag  src_bytes  dst_bytes    land  \\\n",
              "protocol_type                                                            \n",
              "icmp               2406     2406    2406       2406       2406    2406   \n",
              "tcp              130912   130912  130912     130912     130912  130912   \n",
              "udp               12267    12267   12267      12267      12267   12267   \n",
              "\n",
              "               wrong_fragment  urgent     hot  num_failed_logins   ...     \\\n",
              "protocol_type                                                      ...      \n",
              "icmp                     2406    2406    2406               2406   ...      \n",
              "tcp                    130912  130912  130912             130912   ...      \n",
              "udp                     12267   12267   12267              12267   ...      \n",
              "\n",
              "               dst_host_srv_count  dst_host_same_srv_rate  \\\n",
              "protocol_type                                               \n",
              "icmp                         2406                    2406   \n",
              "tcp                        130912                  130912   \n",
              "udp                         12267                   12267   \n",
              "\n",
              "               dst_host_diff_srv_rate  dst_host_same_src_port_rate  \\\n",
              "protocol_type                                                        \n",
              "icmp                             2406                         2406   \n",
              "tcp                            130912                       130912   \n",
              "udp                             12267                        12267   \n",
              "\n",
              "               dst_host_srv_diff_host_rate  dst_host_serror_rate  \\\n",
              "protocol_type                                                      \n",
              "icmp                                  2406                  2406   \n",
              "tcp                                 130912                130912   \n",
              "udp                                  12267                 12267   \n",
              "\n",
              "               dst_host_srv_serror_rate  dst_host_rerror_rate  \\\n",
              "protocol_type                                                   \n",
              "icmp                               2406                  2406   \n",
              "tcp                              130912                130912   \n",
              "udp                               12267                 12267   \n",
              "\n",
              "               dst_host_srv_rerror_rate  outcome  \n",
              "protocol_type                                     \n",
              "icmp                               2406     2406  \n",
              "tcp                              130912   130912  \n",
              "udp                               12267    12267  \n",
              "\n",
              "[3 rows x 41 columns]"
            ]
          },
          "metadata": {
            "tags": []
          },
          "execution_count": 19
        }
      ]
    },
    {
      "metadata": {
        "colab_type": "code",
        "id": "LHimlGRAr_x4",
        "outputId": "20673bb1-a143-4674-ea3e-a539387865d0",
        "colab": {
          "base_uri": "https://localhost:8080/",
          "height": 34
        }
      },
      "cell_type": "code",
      "source": [
        "df_network.shape"
      ],
      "execution_count": 0,
      "outputs": [
        {
          "output_type": "execute_result",
          "data": {
            "text/plain": [
              "(145585, 42)"
            ]
          },
          "metadata": {
            "tags": []
          },
          "execution_count": 20
        }
      ]
    },
    {
      "metadata": {
        "colab_type": "text",
        "id": "P986c5gsr_x7"
      },
      "cell_type": "markdown",
      "source": [
        "### Normalizing all the continuous values since data is continuius"
      ]
    },
    {
      "metadata": {
        "colab_type": "code",
        "id": "OkJGveJQr_x7",
        "colab": {}
      },
      "cell_type": "code",
      "source": [
        "mylist = ['duration','src_bytes','dst_bytes','hot','num_failed_logins','num_compromised','num_root','num_file_creations','num_access_files','count','srv_count', 'dst_host_count', 'dst_host_srv_count']\n",
        "for i in mylist:\n",
        "    Z_score(i)"
      ],
      "execution_count": 0,
      "outputs": []
    },
    {
      "metadata": {
        "colab_type": "code",
        "id": "Tm1VeaZir_x9",
        "outputId": "54372eef-f77d-4d27-baa3-30b2a2e26e98",
        "colab": {
          "base_uri": "https://localhost:8080/",
          "height": 253
        }
      },
      "cell_type": "code",
      "source": [
        "df_network.head()"
      ],
      "execution_count": 0,
      "outputs": [
        {
          "output_type": "execute_result",
          "data": {
            "text/html": [
              "<div>\n",
              "<style scoped>\n",
              "    .dataframe tbody tr th:only-of-type {\n",
              "        vertical-align: middle;\n",
              "    }\n",
              "\n",
              "    .dataframe tbody tr th {\n",
              "        vertical-align: top;\n",
              "    }\n",
              "\n",
              "    .dataframe thead th {\n",
              "        text-align: right;\n",
              "    }\n",
              "</style>\n",
              "<table border=\"1\" class=\"dataframe\">\n",
              "  <thead>\n",
              "    <tr style=\"text-align: right;\">\n",
              "      <th></th>\n",
              "      <th>duration</th>\n",
              "      <th>protocol_type</th>\n",
              "      <th>service</th>\n",
              "      <th>flag</th>\n",
              "      <th>src_bytes</th>\n",
              "      <th>dst_bytes</th>\n",
              "      <th>land</th>\n",
              "      <th>wrong_fragment</th>\n",
              "      <th>urgent</th>\n",
              "      <th>hot</th>\n",
              "      <th>...</th>\n",
              "      <th>dst_host_srv_count</th>\n",
              "      <th>dst_host_same_srv_rate</th>\n",
              "      <th>dst_host_diff_srv_rate</th>\n",
              "      <th>dst_host_same_src_port_rate</th>\n",
              "      <th>dst_host_srv_diff_host_rate</th>\n",
              "      <th>dst_host_serror_rate</th>\n",
              "      <th>dst_host_srv_serror_rate</th>\n",
              "      <th>dst_host_rerror_rate</th>\n",
              "      <th>dst_host_srv_rerror_rate</th>\n",
              "      <th>outcome</th>\n",
              "    </tr>\n",
              "  </thead>\n",
              "  <tbody>\n",
              "    <tr>\n",
              "      <th>0</th>\n",
              "      <td>-0.107851</td>\n",
              "      <td>tcp</td>\n",
              "      <td>http</td>\n",
              "      <td>SF</td>\n",
              "      <td>-0.004261</td>\n",
              "      <td>-0.039036</td>\n",
              "      <td>0</td>\n",
              "      <td>0</td>\n",
              "      <td>0</td>\n",
              "      <td>-0.07021</td>\n",
              "      <td>...</td>\n",
              "      <td>-0.967058</td>\n",
              "      <td>1.0</td>\n",
              "      <td>0.0</td>\n",
              "      <td>0.05</td>\n",
              "      <td>0.0</td>\n",
              "      <td>0.0</td>\n",
              "      <td>0.0</td>\n",
              "      <td>0.0</td>\n",
              "      <td>0.0</td>\n",
              "      <td>normal.</td>\n",
              "    </tr>\n",
              "    <tr>\n",
              "      <th>1</th>\n",
              "      <td>-0.107851</td>\n",
              "      <td>tcp</td>\n",
              "      <td>http</td>\n",
              "      <td>SF</td>\n",
              "      <td>-0.004263</td>\n",
              "      <td>-0.025041</td>\n",
              "      <td>0</td>\n",
              "      <td>0</td>\n",
              "      <td>0</td>\n",
              "      <td>-0.07021</td>\n",
              "      <td>...</td>\n",
              "      <td>-0.879885</td>\n",
              "      <td>1.0</td>\n",
              "      <td>0.0</td>\n",
              "      <td>0.03</td>\n",
              "      <td>0.0</td>\n",
              "      <td>0.0</td>\n",
              "      <td>0.0</td>\n",
              "      <td>0.0</td>\n",
              "      <td>0.0</td>\n",
              "      <td>normal.</td>\n",
              "    </tr>\n",
              "    <tr>\n",
              "      <th>2</th>\n",
              "      <td>-0.107851</td>\n",
              "      <td>tcp</td>\n",
              "      <td>http</td>\n",
              "      <td>SF</td>\n",
              "      <td>-0.004272</td>\n",
              "      <td>-0.025041</td>\n",
              "      <td>0</td>\n",
              "      <td>0</td>\n",
              "      <td>0</td>\n",
              "      <td>-0.07021</td>\n",
              "      <td>...</td>\n",
              "      <td>-0.792712</td>\n",
              "      <td>1.0</td>\n",
              "      <td>0.0</td>\n",
              "      <td>0.03</td>\n",
              "      <td>0.0</td>\n",
              "      <td>0.0</td>\n",
              "      <td>0.0</td>\n",
              "      <td>0.0</td>\n",
              "      <td>0.0</td>\n",
              "      <td>normal.</td>\n",
              "    </tr>\n",
              "    <tr>\n",
              "      <th>3</th>\n",
              "      <td>-0.107851</td>\n",
              "      <td>tcp</td>\n",
              "      <td>http</td>\n",
              "      <td>SF</td>\n",
              "      <td>-0.004273</td>\n",
              "      <td>-0.013612</td>\n",
              "      <td>0</td>\n",
              "      <td>0</td>\n",
              "      <td>0</td>\n",
              "      <td>-0.07021</td>\n",
              "      <td>...</td>\n",
              "      <td>-0.705539</td>\n",
              "      <td>1.0</td>\n",
              "      <td>0.0</td>\n",
              "      <td>0.02</td>\n",
              "      <td>0.0</td>\n",
              "      <td>0.0</td>\n",
              "      <td>0.0</td>\n",
              "      <td>0.0</td>\n",
              "      <td>0.0</td>\n",
              "      <td>normal.</td>\n",
              "    </tr>\n",
              "    <tr>\n",
              "      <th>4</th>\n",
              "      <td>-0.107851</td>\n",
              "      <td>tcp</td>\n",
              "      <td>http</td>\n",
              "      <td>SF</td>\n",
              "      <td>-0.004273</td>\n",
              "      <td>-0.013612</td>\n",
              "      <td>0</td>\n",
              "      <td>0</td>\n",
              "      <td>0</td>\n",
              "      <td>-0.07021</td>\n",
              "      <td>...</td>\n",
              "      <td>-0.618366</td>\n",
              "      <td>1.0</td>\n",
              "      <td>0.0</td>\n",
              "      <td>0.02</td>\n",
              "      <td>0.0</td>\n",
              "      <td>0.0</td>\n",
              "      <td>0.0</td>\n",
              "      <td>0.0</td>\n",
              "      <td>0.0</td>\n",
              "      <td>normal.</td>\n",
              "    </tr>\n",
              "  </tbody>\n",
              "</table>\n",
              "<p>5 rows × 42 columns</p>\n",
              "</div>"
            ],
            "text/plain": [
              "   duration protocol_type service flag  src_bytes  dst_bytes  land  \\\n",
              "0 -0.107851           tcp    http   SF  -0.004261  -0.039036     0   \n",
              "1 -0.107851           tcp    http   SF  -0.004263  -0.025041     0   \n",
              "2 -0.107851           tcp    http   SF  -0.004272  -0.025041     0   \n",
              "3 -0.107851           tcp    http   SF  -0.004273  -0.013612     0   \n",
              "4 -0.107851           tcp    http   SF  -0.004273  -0.013612     0   \n",
              "\n",
              "   wrong_fragment  urgent      hot   ...     dst_host_srv_count  \\\n",
              "0               0       0 -0.07021   ...              -0.967058   \n",
              "1               0       0 -0.07021   ...              -0.879885   \n",
              "2               0       0 -0.07021   ...              -0.792712   \n",
              "3               0       0 -0.07021   ...              -0.705539   \n",
              "4               0       0 -0.07021   ...              -0.618366   \n",
              "\n",
              "   dst_host_same_srv_rate  dst_host_diff_srv_rate  \\\n",
              "0                     1.0                     0.0   \n",
              "1                     1.0                     0.0   \n",
              "2                     1.0                     0.0   \n",
              "3                     1.0                     0.0   \n",
              "4                     1.0                     0.0   \n",
              "\n",
              "   dst_host_same_src_port_rate  dst_host_srv_diff_host_rate  \\\n",
              "0                         0.05                          0.0   \n",
              "1                         0.03                          0.0   \n",
              "2                         0.03                          0.0   \n",
              "3                         0.02                          0.0   \n",
              "4                         0.02                          0.0   \n",
              "\n",
              "   dst_host_serror_rate  dst_host_srv_serror_rate  dst_host_rerror_rate  \\\n",
              "0                   0.0                       0.0                   0.0   \n",
              "1                   0.0                       0.0                   0.0   \n",
              "2                   0.0                       0.0                   0.0   \n",
              "3                   0.0                       0.0                   0.0   \n",
              "4                   0.0                       0.0                   0.0   \n",
              "\n",
              "   dst_host_srv_rerror_rate  outcome  \n",
              "0                       0.0  normal.  \n",
              "1                       0.0  normal.  \n",
              "2                       0.0  normal.  \n",
              "3                       0.0  normal.  \n",
              "4                       0.0  normal.  \n",
              "\n",
              "[5 rows x 42 columns]"
            ]
          },
          "metadata": {
            "tags": []
          },
          "execution_count": 22
        }
      ]
    },
    {
      "metadata": {
        "colab_type": "text",
        "id": "o3WCP1Rir_yA"
      },
      "cell_type": "markdown",
      "source": [
        "### one hot encoding for categorical data"
      ]
    },
    {
      "metadata": {
        "colab_type": "code",
        "id": "A-cK3ZnZr_yB",
        "outputId": "0dfd5876-8e21-43b4-8fd8-bfa527eaff40",
        "colab": {
          "base_uri": "https://localhost:8080/",
          "height": 119
        }
      },
      "cell_type": "code",
      "source": [
        "mylist = [\"protocol_type\",\"service\",\"flag\",\"logged_in\",\"root_shell\",\"is_guest_login\"]\n",
        "for i in mylist:\n",
        "    print(i)\n",
        "    encode_text_dummy(df_network,i)"
      ],
      "execution_count": 0,
      "outputs": [
        {
          "output_type": "stream",
          "text": [
            "protocol_type\n",
            "service\n",
            "flag\n",
            "logged_in\n",
            "root_shell\n",
            "is_guest_login\n"
          ],
          "name": "stdout"
        }
      ]
    },
    {
      "metadata": {
        "colab_type": "code",
        "id": "LahorVfar_yE",
        "outputId": "c1cde9f9-e752-4aad-faaf-68ce2a03d6a1",
        "colab": {
          "base_uri": "https://localhost:8080/",
          "height": 270
        }
      },
      "cell_type": "code",
      "source": [
        "df_network.head()"
      ],
      "execution_count": 0,
      "outputs": [
        {
          "output_type": "execute_result",
          "data": {
            "text/html": [
              "<div>\n",
              "<style scoped>\n",
              "    .dataframe tbody tr th:only-of-type {\n",
              "        vertical-align: middle;\n",
              "    }\n",
              "\n",
              "    .dataframe tbody tr th {\n",
              "        vertical-align: top;\n",
              "    }\n",
              "\n",
              "    .dataframe thead th {\n",
              "        text-align: right;\n",
              "    }\n",
              "</style>\n",
              "<table border=\"1\" class=\"dataframe\">\n",
              "  <thead>\n",
              "    <tr style=\"text-align: right;\">\n",
              "      <th></th>\n",
              "      <th>duration</th>\n",
              "      <th>src_bytes</th>\n",
              "      <th>dst_bytes</th>\n",
              "      <th>land</th>\n",
              "      <th>wrong_fragment</th>\n",
              "      <th>urgent</th>\n",
              "      <th>hot</th>\n",
              "      <th>num_failed_logins</th>\n",
              "      <th>num_compromised</th>\n",
              "      <th>su_attempted</th>\n",
              "      <th>...</th>\n",
              "      <th>flag-S2</th>\n",
              "      <th>flag-S3</th>\n",
              "      <th>flag-SF</th>\n",
              "      <th>flag-SH</th>\n",
              "      <th>logged_in-0</th>\n",
              "      <th>logged_in-1</th>\n",
              "      <th>root_shell-0</th>\n",
              "      <th>root_shell-1</th>\n",
              "      <th>is_guest_login-0</th>\n",
              "      <th>is_guest_login-1</th>\n",
              "    </tr>\n",
              "  </thead>\n",
              "  <tbody>\n",
              "    <tr>\n",
              "      <th>0</th>\n",
              "      <td>-0.107851</td>\n",
              "      <td>-0.004261</td>\n",
              "      <td>-0.039036</td>\n",
              "      <td>0</td>\n",
              "      <td>0</td>\n",
              "      <td>0</td>\n",
              "      <td>-0.07021</td>\n",
              "      <td>-0.018022</td>\n",
              "      <td>-0.007905</td>\n",
              "      <td>0</td>\n",
              "      <td>...</td>\n",
              "      <td>0</td>\n",
              "      <td>0</td>\n",
              "      <td>1</td>\n",
              "      <td>0</td>\n",
              "      <td>0</td>\n",
              "      <td>1</td>\n",
              "      <td>1</td>\n",
              "      <td>0</td>\n",
              "      <td>1</td>\n",
              "      <td>0</td>\n",
              "    </tr>\n",
              "    <tr>\n",
              "      <th>1</th>\n",
              "      <td>-0.107851</td>\n",
              "      <td>-0.004263</td>\n",
              "      <td>-0.025041</td>\n",
              "      <td>0</td>\n",
              "      <td>0</td>\n",
              "      <td>0</td>\n",
              "      <td>-0.07021</td>\n",
              "      <td>-0.018022</td>\n",
              "      <td>-0.007905</td>\n",
              "      <td>0</td>\n",
              "      <td>...</td>\n",
              "      <td>0</td>\n",
              "      <td>0</td>\n",
              "      <td>1</td>\n",
              "      <td>0</td>\n",
              "      <td>0</td>\n",
              "      <td>1</td>\n",
              "      <td>1</td>\n",
              "      <td>0</td>\n",
              "      <td>1</td>\n",
              "      <td>0</td>\n",
              "    </tr>\n",
              "    <tr>\n",
              "      <th>2</th>\n",
              "      <td>-0.107851</td>\n",
              "      <td>-0.004272</td>\n",
              "      <td>-0.025041</td>\n",
              "      <td>0</td>\n",
              "      <td>0</td>\n",
              "      <td>0</td>\n",
              "      <td>-0.07021</td>\n",
              "      <td>-0.018022</td>\n",
              "      <td>-0.007905</td>\n",
              "      <td>0</td>\n",
              "      <td>...</td>\n",
              "      <td>0</td>\n",
              "      <td>0</td>\n",
              "      <td>1</td>\n",
              "      <td>0</td>\n",
              "      <td>0</td>\n",
              "      <td>1</td>\n",
              "      <td>1</td>\n",
              "      <td>0</td>\n",
              "      <td>1</td>\n",
              "      <td>0</td>\n",
              "    </tr>\n",
              "    <tr>\n",
              "      <th>3</th>\n",
              "      <td>-0.107851</td>\n",
              "      <td>-0.004273</td>\n",
              "      <td>-0.013612</td>\n",
              "      <td>0</td>\n",
              "      <td>0</td>\n",
              "      <td>0</td>\n",
              "      <td>-0.07021</td>\n",
              "      <td>-0.018022</td>\n",
              "      <td>-0.007905</td>\n",
              "      <td>0</td>\n",
              "      <td>...</td>\n",
              "      <td>0</td>\n",
              "      <td>0</td>\n",
              "      <td>1</td>\n",
              "      <td>0</td>\n",
              "      <td>0</td>\n",
              "      <td>1</td>\n",
              "      <td>1</td>\n",
              "      <td>0</td>\n",
              "      <td>1</td>\n",
              "      <td>0</td>\n",
              "    </tr>\n",
              "    <tr>\n",
              "      <th>4</th>\n",
              "      <td>-0.107851</td>\n",
              "      <td>-0.004273</td>\n",
              "      <td>-0.013612</td>\n",
              "      <td>0</td>\n",
              "      <td>0</td>\n",
              "      <td>0</td>\n",
              "      <td>-0.07021</td>\n",
              "      <td>-0.018022</td>\n",
              "      <td>-0.007905</td>\n",
              "      <td>0</td>\n",
              "      <td>...</td>\n",
              "      <td>0</td>\n",
              "      <td>0</td>\n",
              "      <td>1</td>\n",
              "      <td>0</td>\n",
              "      <td>0</td>\n",
              "      <td>1</td>\n",
              "      <td>1</td>\n",
              "      <td>0</td>\n",
              "      <td>1</td>\n",
              "      <td>0</td>\n",
              "    </tr>\n",
              "  </tbody>\n",
              "</table>\n",
              "<p>5 rows × 122 columns</p>\n",
              "</div>"
            ],
            "text/plain": [
              "   duration  src_bytes  dst_bytes  land  wrong_fragment  urgent      hot  \\\n",
              "0 -0.107851  -0.004261  -0.039036     0               0       0 -0.07021   \n",
              "1 -0.107851  -0.004263  -0.025041     0               0       0 -0.07021   \n",
              "2 -0.107851  -0.004272  -0.025041     0               0       0 -0.07021   \n",
              "3 -0.107851  -0.004273  -0.013612     0               0       0 -0.07021   \n",
              "4 -0.107851  -0.004273  -0.013612     0               0       0 -0.07021   \n",
              "\n",
              "   num_failed_logins  num_compromised  su_attempted        ...         \\\n",
              "0          -0.018022        -0.007905             0        ...          \n",
              "1          -0.018022        -0.007905             0        ...          \n",
              "2          -0.018022        -0.007905             0        ...          \n",
              "3          -0.018022        -0.007905             0        ...          \n",
              "4          -0.018022        -0.007905             0        ...          \n",
              "\n",
              "   flag-S2  flag-S3  flag-SF  flag-SH  logged_in-0  logged_in-1  root_shell-0  \\\n",
              "0        0        0        1        0            0            1             1   \n",
              "1        0        0        1        0            0            1             1   \n",
              "2        0        0        1        0            0            1             1   \n",
              "3        0        0        1        0            0            1             1   \n",
              "4        0        0        1        0            0            1             1   \n",
              "\n",
              "   root_shell-1  is_guest_login-0  is_guest_login-1  \n",
              "0             0                 1                 0  \n",
              "1             0                 1                 0  \n",
              "2             0                 1                 0  \n",
              "3             0                 1                 0  \n",
              "4             0                 1                 0  \n",
              "\n",
              "[5 rows x 122 columns]"
            ]
          },
          "metadata": {
            "tags": []
          },
          "execution_count": 24
        }
      ]
    },
    {
      "metadata": {
        "colab_type": "text",
        "id": "pqo_o0Myr_yG"
      },
      "cell_type": "markdown",
      "source": [
        "### Convert pandas dataframe to corresponding numpy array"
      ]
    },
    {
      "metadata": {
        "colab_type": "text",
        "id": "sNSG1bt4r_yI"
      },
      "cell_type": "markdown",
      "source": [
        "# LOGISTIC REGRESSION"
      ]
    },
    {
      "metadata": {
        "colab_type": "code",
        "id": "xS-KeQVur_yJ",
        "colab": {}
      },
      "cell_type": "code",
      "source": [
        "encode = LabelEncoder()\n",
        "output_array = df_network['outcome'].values\n",
        "output_array= encode.fit_transform(output_array)"
      ],
      "execution_count": 0,
      "outputs": []
    },
    {
      "metadata": {
        "colab_type": "code",
        "id": "OGNQnfwvr_yL",
        "colab": {}
      },
      "cell_type": "code",
      "source": [
        "df_outcome = df_network['outcome']"
      ],
      "execution_count": 0,
      "outputs": []
    },
    {
      "metadata": {
        "colab_type": "code",
        "id": "C9OyqIgbr_yN",
        "colab": {}
      },
      "cell_type": "code",
      "source": [
        "df_network = df_network.drop([\"outcome\"], axis=1)"
      ],
      "execution_count": 0,
      "outputs": []
    },
    {
      "metadata": {
        "colab_type": "code",
        "id": "5t0kzGwVr_yQ",
        "colab": {}
      },
      "cell_type": "code",
      "source": [
        "input_df = df_network\n",
        "input_array = input_df.values"
      ],
      "execution_count": 0,
      "outputs": []
    },
    {
      "metadata": {
        "colab_type": "code",
        "id": "_xATBn81r_yS",
        "colab": {}
      },
      "cell_type": "code",
      "source": [
        "x_train,x_test,y_train,y_test = train_test_split(input_array,output_array,test_size=0.2,random_state=42)"
      ],
      "execution_count": 0,
      "outputs": []
    },
    {
      "metadata": {
        "colab_type": "code",
        "id": "lTl0BlcDr_yU",
        "colab": {}
      },
      "cell_type": "code",
      "source": [
        "logreg = linear_model.LogisticRegression()"
      ],
      "execution_count": 0,
      "outputs": []
    },
    {
      "metadata": {
        "colab_type": "code",
        "id": "coCW2759r_yW",
        "outputId": "ebc939bc-9536-4a97-eb2c-606eede4a50d",
        "colab": {
          "base_uri": "https://localhost:8080/",
          "height": 34
        }
      },
      "cell_type": "code",
      "source": [
        "print(utils.multiclass.type_of_target(y_train))"
      ],
      "execution_count": 0,
      "outputs": [
        {
          "output_type": "stream",
          "text": [
            "multiclass\n"
          ],
          "name": "stdout"
        }
      ]
    },
    {
      "metadata": {
        "colab_type": "code",
        "id": "Qmq0QiU-r_yZ",
        "outputId": "68aa186c-6c6c-439c-e69e-e38730633370",
        "colab": {
          "base_uri": "https://localhost:8080/",
          "height": 207
        }
      },
      "cell_type": "code",
      "source": [
        "logreg.fit(x_train, y_train)"
      ],
      "execution_count": 0,
      "outputs": [
        {
          "output_type": "stream",
          "text": [
            "/usr/local/lib/python3.6/dist-packages/sklearn/linear_model/logistic.py:433: FutureWarning: Default solver will be changed to 'lbfgs' in 0.22. Specify a solver to silence this warning.\n",
            "  FutureWarning)\n",
            "/usr/local/lib/python3.6/dist-packages/sklearn/linear_model/logistic.py:460: FutureWarning: Default multi_class will be changed to 'auto' in 0.22. Specify the multi_class option to silence this warning.\n",
            "  \"this warning.\", FutureWarning)\n",
            "/usr/local/lib/python3.6/dist-packages/sklearn/svm/base.py:931: ConvergenceWarning: Liblinear failed to converge, increase the number of iterations.\n",
            "  \"the number of iterations.\", ConvergenceWarning)\n"
          ],
          "name": "stderr"
        },
        {
          "output_type": "execute_result",
          "data": {
            "text/plain": [
              "LogisticRegression(C=1.0, class_weight=None, dual=False, fit_intercept=True,\n",
              "          intercept_scaling=1, max_iter=100, multi_class='warn',\n",
              "          n_jobs=None, penalty='l2', random_state=None, solver='warn',\n",
              "          tol=0.0001, verbose=0, warm_start=False)"
            ]
          },
          "metadata": {
            "tags": []
          },
          "execution_count": 32
        }
      ]
    },
    {
      "metadata": {
        "colab_type": "code",
        "id": "C1DvNp18r_yb",
        "colab": {}
      },
      "cell_type": "code",
      "source": [
        "y_pred_logistic = logreg.predict(x_test)"
      ],
      "execution_count": 0,
      "outputs": []
    },
    {
      "metadata": {
        "colab_type": "code",
        "id": "LwNTmb4ThuC1",
        "outputId": "afe71423-1ddd-49ba-c20d-28a4fec47b46",
        "colab": {
          "base_uri": "https://localhost:8080/",
          "height": 51
        }
      },
      "cell_type": "code",
      "source": [
        "decode_y = (encode.inverse_transform(y_pred_logistic)[:10])\n",
        "decode_y"
      ],
      "execution_count": 0,
      "outputs": [
        {
          "output_type": "execute_result",
          "data": {
            "text/plain": [
              "array(['normal.', 'satan.', 'normal.', 'neptune.', 'normal.', 'normal.',\n",
              "       'normal.', 'normal.', 'neptune.', 'neptune.'], dtype=object)"
            ]
          },
          "metadata": {
            "tags": []
          },
          "execution_count": 34
        }
      ]
    },
    {
      "metadata": {
        "colab_type": "code",
        "id": "NHapMv5or_yd",
        "outputId": "5ae48dfc-bd1b-4f34-f419-44f2bb11c55d",
        "colab": {
          "base_uri": "https://localhost:8080/",
          "height": 34
        }
      },
      "cell_type": "code",
      "source": [
        "print('Evaluating with F1 score metric: %.2f' % f1_score(y_test, y_pred_logistic,average='micro'))"
      ],
      "execution_count": 0,
      "outputs": [
        {
          "output_type": "stream",
          "text": [
            "Evaluating with F1 score metric: 0.99\n"
          ],
          "name": "stdout"
        }
      ]
    },
    {
      "metadata": {
        "colab_type": "code",
        "id": "ZHuarn74r_yg",
        "outputId": "a9c0d51e-058d-4e12-ac10-de0afc9edb04",
        "colab": {
          "base_uri": "https://localhost:8080/",
          "height": 34
        }
      },
      "cell_type": "code",
      "source": [
        "score = metrics.accuracy_score(y_test, y_pred_logistic)\n",
        "print(\"Accuracy score: {}\".format(score))"
      ],
      "execution_count": 0,
      "outputs": [
        {
          "output_type": "stream",
          "text": [
            "Accuracy score: 0.9947796819727307\n"
          ],
          "name": "stdout"
        }
      ]
    },
    {
      "metadata": {
        "colab_type": "code",
        "id": "9tpaJCbwr_yn",
        "outputId": "c714ff0e-e56b-4d67-f0fb-7436afc2bb70",
        "colab": {
          "base_uri": "https://localhost:8080/",
          "height": 34
        }
      },
      "cell_type": "code",
      "source": [
        "score = metrics.recall_score(y_test,y_pred_logistic, average= \"weighted\")\n",
        "print(\"Recall score: {}\".format(score))"
      ],
      "execution_count": 0,
      "outputs": [
        {
          "output_type": "stream",
          "text": [
            "Recall score: 0.9947796819727307\n"
          ],
          "name": "stdout"
        }
      ]
    },
    {
      "metadata": {
        "colab_type": "text",
        "id": "6LUZ8_rCr_ys"
      },
      "cell_type": "markdown",
      "source": [
        "## Tensorflow Classification"
      ]
    },
    {
      "metadata": {
        "colab_type": "code",
        "id": "ZiHczPnNzlsB",
        "outputId": "f55f66d3-c287-4362-d691-728926a2463a",
        "colab": {
          "base_uri": "https://localhost:8080/",
          "height": 68
        }
      },
      "cell_type": "code",
      "source": [
        "num_classes = 23\n",
        "#Convert class vectors to one hot format\n",
        "y_train = keras.utils.to_categorical(y_train,num_classes)\n",
        "print(y_train[:1])\n",
        "y_test = keras.utils.to_categorical(y_test,num_classes)\n",
        "print(x_train.shape)\n",
        "print(y_train.shape)"
      ],
      "execution_count": 0,
      "outputs": [
        {
          "output_type": "stream",
          "text": [
            "[[0. 0. 0. 0. 0. 0. 0. 0. 0. 0. 0. 1. 0. 0. 0. 0. 0. 0. 0. 0. 0. 0. 0.]]\n",
            "(116468, 121)\n",
            "(116468, 23)\n"
          ],
          "name": "stdout"
        }
      ]
    },
    {
      "metadata": {
        "colab_type": "code",
        "id": "cbX2G6tTz3ts",
        "outputId": "cc7093b6-1c75-4e2b-fb8f-b2f3cb4a0e73",
        "colab": {
          "base_uri": "https://localhost:8080/",
          "height": 921
        }
      },
      "cell_type": "code",
      "source": [
        "for i in range(2):\n",
        "    print(i)\n",
        "    \n",
        "    model_c = Sequential()\n",
        "    model_c.add(Dense(50, input_dim=x_train.shape[1], activation='relu')) # Hidden 1\n",
        "    model_c.add(Dense(25, activation='relu')) # Hidden 2\n",
        "    model_c.add(Dense(y_train.shape[1], activation='softmax'))\n",
        "    model_c.compile(loss='categorical_crossentropy', optimizer='adam')\n",
        "    monitor_c = EarlyStopping(monitor='val_loss', min_delta=1e-3, patience=2, verbose=2, mode='auto') \n",
        "    checkpointer_c = ModelCheckpoint(filepath=\"c_best_weights.hdf5\", verbose=0, save_best_only=True) # save best model\n",
        "    model_c.fit(x_train,y_train,callbacks=[monitor_c,checkpointer_c],verbose=2,epochs=10)\n",
        "\n",
        "\n"
      ],
      "execution_count": 0,
      "outputs": [
        {
          "output_type": "stream",
          "text": [
            "0\n",
            "WARNING:tensorflow:From /usr/local/lib/python3.6/dist-packages/tensorflow/python/framework/op_def_library.py:263: colocate_with (from tensorflow.python.framework.ops) is deprecated and will be removed in a future version.\n",
            "Instructions for updating:\n",
            "Colocations handled automatically by placer.\n",
            "WARNING:tensorflow:From /usr/local/lib/python3.6/dist-packages/tensorflow/python/ops/math_ops.py:3066: to_int32 (from tensorflow.python.ops.math_ops) is deprecated and will be removed in a future version.\n",
            "Instructions for updating:\n",
            "Use tf.cast instead.\n",
            "Epoch 1/10\n",
            " - 4s - loss: 0.0888\n",
            "Epoch 2/10\n"
          ],
          "name": "stdout"
        },
        {
          "output_type": "stream",
          "text": [
            "/usr/local/lib/python3.6/dist-packages/keras/callbacks.py:569: RuntimeWarning: Early stopping conditioned on metric `val_loss` which is not available. Available metrics are: loss\n",
            "  (self.monitor, ','.join(list(logs.keys()))), RuntimeWarning\n",
            "/usr/local/lib/python3.6/dist-packages/keras/callbacks.py:434: RuntimeWarning: Can save best model only with val_loss available, skipping.\n",
            "  'skipping.' % (self.monitor), RuntimeWarning)\n"
          ],
          "name": "stderr"
        },
        {
          "output_type": "stream",
          "text": [
            " - 4s - loss: 0.0173\n",
            "Epoch 3/10\n",
            " - 4s - loss: 0.0127\n",
            "Epoch 4/10\n",
            " - 4s - loss: 0.0109\n",
            "Epoch 5/10\n",
            " - 4s - loss: 0.0097\n",
            "Epoch 6/10\n",
            " - 4s - loss: 0.0086\n",
            "Epoch 7/10\n",
            " - 4s - loss: 0.0083\n",
            "Epoch 8/10\n",
            " - 4s - loss: 0.0077\n",
            "Epoch 9/10\n",
            " - 4s - loss: 0.0068\n",
            "Epoch 10/10\n",
            " - 4s - loss: 0.0066\n",
            "1\n",
            "Epoch 1/10\n",
            " - 4s - loss: 0.0707\n",
            "Epoch 2/10\n",
            " - 4s - loss: 0.0169\n",
            "Epoch 3/10\n",
            " - 4s - loss: 0.0136\n",
            "Epoch 4/10\n",
            " - 4s - loss: 0.0119\n",
            "Epoch 5/10\n",
            " - 4s - loss: 0.0111\n",
            "Epoch 6/10\n",
            " - 4s - loss: 0.0105\n",
            "Epoch 7/10\n",
            " - 4s - loss: 0.0097\n",
            "Epoch 8/10\n",
            " - 4s - loss: 0.0092\n",
            "Epoch 9/10\n",
            " - 4s - loss: 0.0090\n",
            "Epoch 10/10\n",
            " - 4s - loss: 0.0085\n"
          ],
          "name": "stdout"
        }
      ]
    },
    {
      "metadata": {
        "colab_type": "code",
        "id": "5ntmfRVI4sNE",
        "colab": {}
      },
      "cell_type": "code",
      "source": [
        "pred_c = model_c.predict(x_test)\n",
        "pred_c = np.argmax(pred_c,axis=1) "
      ],
      "execution_count": 0,
      "outputs": []
    },
    {
      "metadata": {
        "colab_type": "code",
        "id": "5kFidrKAjTEZ",
        "outputId": "5be3eec9-e440-4f3f-e77c-343c560ecbed",
        "colab": {
          "base_uri": "https://localhost:8080/",
          "height": 34
        }
      },
      "cell_type": "code",
      "source": [
        "pred_c"
      ],
      "execution_count": 0,
      "outputs": [
        {
          "output_type": "execute_result",
          "data": {
            "text/plain": [
              "array([11, 17, 11, ..., 18,  9,  9])"
            ]
          },
          "metadata": {
            "tags": []
          },
          "execution_count": 41
        }
      ]
    },
    {
      "metadata": {
        "colab_type": "code",
        "id": "bKWUOkuT4xQ-",
        "outputId": "7b8025fe-9c9c-41c7-8c48-8a9bb24e95d8",
        "colab": {
          "base_uri": "https://localhost:8080/",
          "height": 241
        }
      },
      "cell_type": "code",
      "source": [
        "y_true= np.argmax(y_test,axis=1) \n",
        "score_c = metrics.accuracy_score(y_true, pred_c)\n",
        "print(\"Accuracy score: {}\".format(score_c))\n",
        "\n",
        "score_tf_precision_stopping = metrics.precision_score(y_true, pred_c, average= \"weighted\")\n",
        "print(\"Precision score: {}\".format(score_tf_precision_stopping))\n",
        "\n",
        "\n",
        "score_tf_recall_stopping = metrics.recall_score(y_true, pred_c, average= \"weighted\")\n",
        "print(\"Recall score: {}\".format(score_tf_recall_stopping))\n",
        "\n",
        "\n",
        "score_tf_f1_stopping = metrics.f1_score(y_true, pred_c, average= \"weighted\")\n",
        "print(\"F1 score: {}\".format(score_tf_f1_stopping))\n",
        "\n"
      ],
      "execution_count": 0,
      "outputs": [
        {
          "output_type": "stream",
          "text": [
            "Accuracy score: 0.9981454133324175\n",
            "Precision score: 0.9980059587296808\n",
            "Recall score: 0.9981454133324175\n",
            "F1 score: 0.997995785836748\n"
          ],
          "name": "stdout"
        },
        {
          "output_type": "stream",
          "text": [
            "/usr/local/lib/python3.6/dist-packages/sklearn/metrics/classification.py:1143: UndefinedMetricWarning: Precision is ill-defined and being set to 0.0 in labels with no predicted samples.\n",
            "  'precision', 'predicted', average, warn_for)\n",
            "/usr/local/lib/python3.6/dist-packages/sklearn/metrics/classification.py:1145: UndefinedMetricWarning: Recall is ill-defined and being set to 0.0 in labels with no true samples.\n",
            "  'recall', 'true', average, warn_for)\n",
            "/usr/local/lib/python3.6/dist-packages/sklearn/metrics/classification.py:1143: UndefinedMetricWarning: F-score is ill-defined and being set to 0.0 in labels with no predicted samples.\n",
            "  'precision', 'predicted', average, warn_for)\n",
            "/usr/local/lib/python3.6/dist-packages/sklearn/metrics/classification.py:1145: UndefinedMetricWarning: F-score is ill-defined and being set to 0.0 in labels with no true samples.\n",
            "  'recall', 'true', average, warn_for)\n"
          ],
          "name": "stderr"
        }
      ]
    },
    {
      "metadata": {
        "colab_type": "code",
        "id": "6Eu-fyFM-N1w",
        "outputId": "828df849-5650-4730-c446-7d5207a4df48",
        "colab": {
          "base_uri": "https://localhost:8080/",
          "height": 1699
        }
      },
      "cell_type": "code",
      "source": [
        "cm = confusion_matrix(y_true, pred_c)\n",
        "print(cm)\n",
        "\n",
        "\n",
        "print('Plotting confusion matrix')\n",
        "\n",
        "plt.figure(figsize=(16,6))\n",
        "plot_confusion_matrix(cm,name)\n",
        "plt.show()\n",
        "\n",
        "print(classification_report(y_true, pred_c))"
      ],
      "execution_count": 0,
      "outputs": [
        {
          "output_type": "stream",
          "text": [
            "[[  190     0     0     0     0     0     0     0     0     0     0     1\n",
            "      0     0     0     0     0     0     0     0]\n",
            " [    0     3     0     0     0     0     0     2     0     0     0     0\n",
            "      0     0     0     0     0     0     1     0]\n",
            " [    0     0     1     0     0     0     0     0     0     0     0     2\n",
            "      0     0     0     0     0     0     2     0]\n",
            " [    0     0     0    10     0     0     0     0     0     0     0     0\n",
            "      0     0     0     0     0     0     0     0]\n",
            " [    0     0     0     0     1     0     0     0     0     0     0     0\n",
            "      0     0     0     0     0     0     0     0]\n",
            " [    0     0     0     0     0   133     0     0     0     0     2     2\n",
            "      0     0     0     0     0     0     0     0]\n",
            " [    0     0     0     0     0     0     2     0     0     0     0     0\n",
            "      0     0     0     0     0     0     0     0]\n",
            " [    0     0     0     0     0     0     0     0     0     0     0     0\n",
            "      0     0     0     0     0     0     0     0]\n",
            " [    0     0     0     0     0     0     0     1     0     0     0     1\n",
            "      0     0     0     0     0     0     0     0]\n",
            " [    0     0     0     0     0     0     0     0     0 10357     0     0\n",
            "      0     0     0     0     0     0     0     0]\n",
            " [    0     0     0     0     0     3     0     0     0     0    28     5\n",
            "      0     0     0     2     0     0     0     0]\n",
            " [    0     0     0     0     0     1     0     0     0     0     0 17576\n",
            "      0     1     0     1     0     0    10     0]\n",
            " [    0     0     0     0     0     0     0     0     0     0     0     0\n",
            "     34     0     0     0     0     0     0     0]\n",
            " [    0     0     0     0     0     0     0     0     0     0     0     0\n",
            "      0    92     0     0     0     0     0     0]\n",
            " [    0     0     0     0     0     0     0     0     0     0     0     1\n",
            "      0     0     0     0     0     0     0     0]\n",
            " [    0     0     0     0     0     0     0     0     0     0     0     2\n",
            "      0     0     0   156     0     0     0     0]\n",
            " [    0     0     0     0     0     0     0     0     0     0     0     2\n",
            "      0     0     0     0   130     0     0     0]\n",
            " [    0     0     0     0     0     0     0     0     0     0     0     0\n",
            "      0     0     0     0     0   208     0     0]\n",
            " [    0     0     0     0     0     0     0     0     0     0     0     8\n",
            "      0     0     0     0     0     0   142     0]\n",
            " [    0     0     0     0     0     0     0     0     0     0     0     4\n",
            "      0     0     0     0     0     0     0     0]]\n",
            "Plotting confusion matrix\n"
          ],
          "name": "stdout"
        },
        {
          "output_type": "display_data",
          "data": {
            "image/png": "[encoded data removed]",
            "text/plain": [
              "<Figure size 1152x432 with 2 Axes>"
            ]
          },
          "metadata": {
            "tags": []
          }
        },
        {
          "output_type": "stream",
          "text": [
            "              precision    recall  f1-score   support\n",
            "\n",
            "           0       1.00      0.99      1.00       191\n",
            "           1       1.00      0.50      0.67         6\n",
            "           2       1.00      0.20      0.33         5\n",
            "           3       1.00      1.00      1.00        10\n",
            "           4       1.00      1.00      1.00         1\n",
            "           5       0.97      0.97      0.97       137\n",
            "           6       1.00      1.00      1.00         2\n",
            "           7       0.00      0.00      0.00         0\n",
            "           8       0.00      0.00      0.00         2\n",
            "           9       1.00      1.00      1.00     10357\n",
            "          10       0.93      0.74      0.82        38\n",
            "          11       1.00      1.00      1.00     17589\n",
            "          14       1.00      1.00      1.00        34\n",
            "          15       0.99      1.00      0.99        92\n",
            "          16       0.00      0.00      0.00         1\n",
            "          17       0.98      0.99      0.98       158\n",
            "          18       1.00      0.98      0.99       132\n",
            "          20       1.00      1.00      1.00       208\n",
            "          21       0.92      0.95      0.93       150\n",
            "          22       0.00      0.00      0.00         4\n",
            "\n",
            "   micro avg       1.00      1.00      1.00     29117\n",
            "   macro avg       0.79      0.72      0.73     29117\n",
            "weighted avg       1.00      1.00      1.00     29117\n",
            "\n"
          ],
          "name": "stdout"
        },
        {
          "output_type": "stream",
          "text": [
            "/usr/local/lib/python3.6/dist-packages/sklearn/metrics/classification.py:1143: UndefinedMetricWarning: Precision and F-score are ill-defined and being set to 0.0 in labels with no predicted samples.\n",
            "  'precision', 'predicted', average, warn_for)\n",
            "/usr/local/lib/python3.6/dist-packages/sklearn/metrics/classification.py:1145: UndefinedMetricWarning: Recall and F-score are ill-defined and being set to 0.0 in labels with no true samples.\n",
            "  'recall', 'true', average, warn_for)\n"
          ],
          "name": "stderr"
        }
      ]
    },
    {
      "metadata": {
        "colab_type": "text",
        "id": "fYRy4deH0Civ"
      },
      "cell_type": "markdown",
      "source": [
        "##CNN\n"
      ]
    },
    {
      "metadata": {
        "colab_type": "code",
        "id": "9N1cxCI70EcD",
        "colab": {}
      },
      "cell_type": "code",
      "source": [
        "import keras\n",
        "from keras.datasets import mnist\n",
        "from keras.models import Sequential\n",
        "from keras.layers import Dense, Dropout, Flatten\n",
        "from keras.layers import Conv2D, MaxPooling2D"
      ],
      "execution_count": 0,
      "outputs": []
    },
    {
      "metadata": {
        "colab_type": "code",
        "id": "c5R2tNEo4kpJ",
        "colab": {}
      },
      "cell_type": "code",
      "source": [
        "x_train,x_test,y_train,y_test = train_test_split(input_array,output_array,test_size=0.2,random_state=42)"
      ],
      "execution_count": 0,
      "outputs": []
    },
    {
      "metadata": {
        "colab_type": "code",
        "id": "ESZ4R4cJ4rcm",
        "colab": {}
      },
      "cell_type": "code",
      "source": [
        "x_train = x_train.reshape(x_train.shape[0], 1, x_train.shape[1], 1)\n",
        "x_test = x_test.reshape(x_test.shape[0], 1, x_test.shape[1], 1)"
      ],
      "execution_count": 0,
      "outputs": []
    },
    {
      "metadata": {
        "colab_type": "code",
        "id": "I7jPuTCZ6Kqh",
        "outputId": "bfe4da1b-c8c1-46fc-a13a-a34f06d45f86",
        "colab": {
          "base_uri": "https://localhost:8080/",
          "height": 34
        }
      },
      "cell_type": "code",
      "source": [
        "x_train.shape"
      ],
      "execution_count": 0,
      "outputs": [
        {
          "output_type": "execute_result",
          "data": {
            "text/plain": [
              "(116468, 1, 121, 1)"
            ]
          },
          "metadata": {
            "tags": []
          },
          "execution_count": 47
        }
      ]
    },
    {
      "metadata": {
        "colab_type": "code",
        "id": "LuQgkfla6mH-",
        "outputId": "e95f1aa1-42bf-42b3-e958-8b217e5f241d",
        "colab": {
          "base_uri": "https://localhost:8080/",
          "height": 34
        }
      },
      "cell_type": "code",
      "source": [
        "x_test.shape"
      ],
      "execution_count": 0,
      "outputs": [
        {
          "output_type": "execute_result",
          "data": {
            "text/plain": [
              "(29117, 1, 121, 1)"
            ]
          },
          "metadata": {
            "tags": []
          },
          "execution_count": 48
        }
      ]
    },
    {
      "metadata": {
        "colab_type": "code",
        "id": "J9QmM_3_5PsT",
        "outputId": "39b5169b-8636-4472-c7fd-843943ef7ca5",
        "colab": {
          "base_uri": "https://localhost:8080/",
          "height": 68
        }
      },
      "cell_type": "code",
      "source": [
        "num_classes = 23\n",
        "#Convert class vectors to one hot format\n",
        "y_train = keras.utils.to_categorical(y_train,num_classes)\n",
        "print(y_train[:1])\n",
        "y_test = keras.utils.to_categorical(y_test,num_classes)\n",
        "print(x_train.shape)\n",
        "print(y_train.shape)"
      ],
      "execution_count": 0,
      "outputs": [
        {
          "output_type": "stream",
          "text": [
            "[[0. 0. 0. 0. 0. 0. 0. 0. 0. 0. 0. 1. 0. 0. 0. 0. 0. 0. 0. 0. 0. 0. 0.]]\n",
            "(116468, 1, 121, 1)\n",
            "(116468, 23)\n"
          ],
          "name": "stdout"
        }
      ]
    },
    {
      "metadata": {
        "colab_type": "code",
        "id": "PCbtr8t36rKJ",
        "outputId": "10f1c9e7-e013-493e-dd5d-7f584ba0c225",
        "colab": {
          "base_uri": "https://localhost:8080/",
          "height": 34
        }
      },
      "cell_type": "code",
      "source": [
        "y_test.shape"
      ],
      "execution_count": 0,
      "outputs": [
        {
          "output_type": "execute_result",
          "data": {
            "text/plain": [
              "(29117, 23)"
            ]
          },
          "metadata": {
            "tags": []
          },
          "execution_count": 50
        }
      ]
    },
    {
      "metadata": {
        "colab_type": "code",
        "id": "kH5MbzGT6veQ",
        "outputId": "549f181b-43b4-4e2f-d640-35e6abbd66fa",
        "colab": {
          "base_uri": "https://localhost:8080/",
          "height": 34
        }
      },
      "cell_type": "code",
      "source": [
        "y_train.shape"
      ],
      "execution_count": 0,
      "outputs": [
        {
          "output_type": "execute_result",
          "data": {
            "text/plain": [
              "(116468, 23)"
            ]
          },
          "metadata": {
            "tags": []
          },
          "execution_count": 51
        }
      ]
    },
    {
      "metadata": {
        "colab_type": "code",
        "id": "v3gTIwQf5T-3",
        "colab": {}
      },
      "cell_type": "code",
      "source": [
        "checkpointer_cnn = ModelCheckpoint(filepath=\"./best_weights_cnn_af.hdf5\", verbose=23, save_best_only=True)\n"
      ],
      "execution_count": 0,
      "outputs": []
    },
    {
      "metadata": {
        "colab_type": "code",
        "id": "lO7yramH7fr_",
        "outputId": "ee6250e7-d16e-4307-ad7e-d4c83c9fd79b",
        "colab": {
          "base_uri": "https://localhost:8080/",
          "height": 1360
        }
      },
      "cell_type": "code",
      "source": [
        "\n",
        "\n",
        "\n",
        "for i in range(2):\n",
        "    cnn_a = Sequential()\n",
        "\n",
        "    # Conv2D layer 1\n",
        "    cnn_a.add(Conv2D(64, kernel_size=(1, 3), strides=(1, 1), padding='valid', activation='relu', input_shape=(1,121, 1)))\n",
        "    cnn_a.add(MaxPooling2D(pool_size=(1, 2), strides=None))\n",
        "    cnn_a.add(Conv2D(32, kernel_size=(1, 3), strides=(1, 1),\n",
        "                     activation='relu'))\n",
        "    cnn_a.add(MaxPooling2D(pool_size=(1, 2)))\n",
        "\n",
        "    cnn_a.add(Flatten())\n",
        "    cnn_a.add(Dense(100, activation=\"relu\"))\n",
        "    cnn_a.add(Dropout(0.5))\n",
        "    cnn_a.add(Dense(23, activation=\"softmax\"))\n",
        "\n",
        "    cnn_a.compile(loss=\"categorical_crossentropy\", optimizer=\"adam\" , metrics = ['accuracy'])\n",
        "    monitor = EarlyStopping(monitor='val_loss', min_delta=1e-3, patience=2, verbose=2, mode='auto') \n",
        "    # save best model\n",
        "    cnn_a.fit(x_train, y_train, \n",
        "                batch_size=128, \n",
        "                callbacks=[monitor,checkpointer_cnn], \n",
        "                epochs=10, \n",
        "                verbose=2, \n",
        "                validation_data=(x_test, y_test))\n",
        "\n",
        "    print('Training finished...Loading the best model') \n",
        "    print()\n",
        "    cnn_a.load_weights('./best_weights_cnn_af.hdf5')"
      ],
      "execution_count": 0,
      "outputs": [
        {
          "output_type": "stream",
          "text": [
            "Train on 116468 samples, validate on 29117 samples\n",
            "Epoch 1/10\n",
            " - 33s - loss: 0.1279 - acc: 0.9749 - val_loss: 0.0262 - val_acc: 0.9950\n",
            "\n",
            "Epoch 00001: val_loss did not improve from 0.01376\n",
            "Epoch 2/10\n",
            " - 31s - loss: 0.0342 - acc: 0.9921 - val_loss: 0.0223 - val_acc: 0.9955\n",
            "\n",
            "Epoch 00002: val_loss did not improve from 0.01376\n",
            "Epoch 3/10\n",
            " - 31s - loss: 0.0285 - acc: 0.9932 - val_loss: 0.0197 - val_acc: 0.9956\n",
            "\n",
            "Epoch 00003: val_loss did not improve from 0.01376\n",
            "Epoch 4/10\n",
            " - 31s - loss: 0.0241 - acc: 0.9942 - val_loss: 0.0186 - val_acc: 0.9962\n",
            "\n",
            "Epoch 00004: val_loss did not improve from 0.01376\n",
            "Epoch 5/10\n",
            " - 31s - loss: 0.0217 - acc: 0.9950 - val_loss: 0.0158 - val_acc: 0.9966\n",
            "\n",
            "Epoch 00005: val_loss did not improve from 0.01376\n",
            "Epoch 6/10\n",
            " - 31s - loss: 0.0208 - acc: 0.9951 - val_loss: 0.0161 - val_acc: 0.9961\n",
            "\n",
            "Epoch 00006: val_loss did not improve from 0.01376\n",
            "Epoch 7/10\n",
            " - 31s - loss: 0.0175 - acc: 0.9959 - val_loss: 0.0143 - val_acc: 0.9971\n",
            "\n",
            "Epoch 00007: val_loss did not improve from 0.01376\n",
            "Epoch 8/10\n",
            " - 31s - loss: 0.0170 - acc: 0.9959 - val_loss: 0.0137 - val_acc: 0.9977\n",
            "\n",
            "Epoch 00008: val_loss improved from 0.01376 to 0.01372, saving model to ./best_weights_cnn_af.hdf5\n",
            "Epoch 9/10\n",
            " - 31s - loss: 0.0161 - acc: 0.9964 - val_loss: 0.0132 - val_acc: 0.9974\n",
            "\n",
            "Epoch 00009: val_loss improved from 0.01372 to 0.01320, saving model to ./best_weights_cnn_af.hdf5\n",
            "Epoch 10/10\n",
            " - 31s - loss: 0.0152 - acc: 0.9965 - val_loss: 0.0135 - val_acc: 0.9975\n",
            "\n",
            "Epoch 00010: val_loss did not improve from 0.01320\n",
            "Training finished...Loading the best model\n",
            "\n",
            "Train on 116468 samples, validate on 29117 samples\n",
            "Epoch 1/10\n",
            " - 33s - loss: 0.1217 - acc: 0.9762 - val_loss: 0.0259 - val_acc: 0.9945\n",
            "\n",
            "Epoch 00001: val_loss did not improve from 0.01320\n",
            "Epoch 2/10\n",
            " - 32s - loss: 0.0323 - acc: 0.9926 - val_loss: 0.0206 - val_acc: 0.9950\n",
            "\n",
            "Epoch 00002: val_loss did not improve from 0.01320\n",
            "Epoch 3/10\n",
            " - 32s - loss: 0.0260 - acc: 0.9939 - val_loss: 0.0182 - val_acc: 0.9958\n",
            "\n",
            "Epoch 00003: val_loss did not improve from 0.01320\n",
            "Epoch 4/10\n",
            " - 32s - loss: 0.0230 - acc: 0.9944 - val_loss: 0.0169 - val_acc: 0.9957\n",
            "\n",
            "Epoch 00004: val_loss did not improve from 0.01320\n",
            "Epoch 5/10\n",
            " - 32s - loss: 0.0198 - acc: 0.9954 - val_loss: 0.0151 - val_acc: 0.9970\n",
            "\n",
            "Epoch 00005: val_loss did not improve from 0.01320\n",
            "Epoch 6/10\n",
            " - 32s - loss: 0.0177 - acc: 0.9960 - val_loss: 0.0141 - val_acc: 0.9970\n",
            "\n",
            "Epoch 00006: val_loss did not improve from 0.01320\n",
            "Epoch 7/10\n",
            " - 31s - loss: 0.0174 - acc: 0.9959 - val_loss: 0.0137 - val_acc: 0.9975\n",
            "\n",
            "Epoch 00007: val_loss did not improve from 0.01320\n",
            "Epoch 8/10\n",
            " - 31s - loss: 0.0162 - acc: 0.9963 - val_loss: 0.0139 - val_acc: 0.9971\n",
            "\n",
            "Epoch 00008: val_loss did not improve from 0.01320\n",
            "Epoch 00008: early stopping\n",
            "Training finished...Loading the best model\n",
            "\n"
          ],
          "name": "stdout"
        }
      ]
    },
    {
      "metadata": {
        "colab_type": "code",
        "id": "2N1R7qPc7p1r",
        "colab": {}
      },
      "cell_type": "code",
      "source": [
        ""
      ],
      "execution_count": 0,
      "outputs": []
    },
    {
      "metadata": {
        "colab_type": "code",
        "id": "mABeVnyx_pGI",
        "outputId": "4818031f-eea4-4856-e848-d9a89b395ed9",
        "colab": {
          "base_uri": "https://localhost:8080/",
          "height": 408
        }
      },
      "cell_type": "code",
      "source": [
        "cnn_a.summary()"
      ],
      "execution_count": 0,
      "outputs": [
        {
          "output_type": "stream",
          "text": [
            "_________________________________________________________________\n",
            "Layer (type)                 Output Shape              Param #   \n",
            "=================================================================\n",
            "conv2d_11 (Conv2D)           (None, 1, 119, 64)        256       \n",
            "_________________________________________________________________\n",
            "max_pooling2d_11 (MaxPooling (None, 1, 59, 64)         0         \n",
            "_________________________________________________________________\n",
            "conv2d_12 (Conv2D)           (None, 1, 57, 32)         6176      \n",
            "_________________________________________________________________\n",
            "max_pooling2d_12 (MaxPooling (None, 1, 28, 32)         0         \n",
            "_________________________________________________________________\n",
            "flatten_6 (Flatten)          (None, 896)               0         \n",
            "_________________________________________________________________\n",
            "dense_17 (Dense)             (None, 100)               89700     \n",
            "_________________________________________________________________\n",
            "dropout_6 (Dropout)          (None, 100)               0         \n",
            "_________________________________________________________________\n",
            "dense_18 (Dense)             (None, 23)                2323      \n",
            "=================================================================\n",
            "Total params: 98,455\n",
            "Trainable params: 98,455\n",
            "Non-trainable params: 0\n",
            "_________________________________________________________________\n"
          ],
          "name": "stdout"
        }
      ]
    },
    {
      "metadata": {
        "colab_type": "code",
        "id": "YBDI08-L7eeI",
        "outputId": "db8a8846-ed41-48b3-e77b-efa2789e8945",
        "colab": {
          "base_uri": "https://localhost:8080/",
          "height": 34
        }
      },
      "cell_type": "code",
      "source": [
        "score_cnn = cnn_a.evaluate(x_test, y_test, verbose=0)\n",
        "score_cnn"
      ],
      "execution_count": 0,
      "outputs": [
        {
          "output_type": "execute_result",
          "data": {
            "text/plain": [
              "[0.013202828231801592, 0.9973898409863654]"
            ]
          },
          "metadata": {
            "tags": []
          },
          "execution_count": 60
        }
      ]
    },
    {
      "metadata": {
        "colab_type": "code",
        "id": "bZNGciFf_00-",
        "outputId": "7ef97916-79b8-4af3-866e-9fe60b4129fa",
        "colab": {
          "base_uri": "https://localhost:8080/",
          "height": 34
        }
      },
      "cell_type": "code",
      "source": [
        "pred_cnn_a = cnn_a.predict(x_test)\n",
        "pred_cnn_a = np.argmax(pred_cnn_a,axis=1)\n",
        "pred_cnn_a"
      ],
      "execution_count": 0,
      "outputs": [
        {
          "output_type": "execute_result",
          "data": {
            "text/plain": [
              "array([11, 17, 11, ..., 18,  9,  9])"
            ]
          },
          "metadata": {
            "tags": []
          },
          "execution_count": 62
        }
      ]
    },
    {
      "metadata": {
        "colab_type": "code",
        "id": "46J9JLAi_8hz",
        "outputId": "0ef8bd88-922f-4f83-aa8f-f0a840bcbf49",
        "colab": {
          "base_uri": "https://localhost:8080/",
          "height": 34
        }
      },
      "cell_type": "code",
      "source": [
        "y_true = np.argmax(y_test,axis=1)\n",
        "y_true"
      ],
      "execution_count": 0,
      "outputs": [
        {
          "output_type": "execute_result",
          "data": {
            "text/plain": [
              "array([11, 17, 11, ..., 18,  9,  9])"
            ]
          },
          "metadata": {
            "tags": []
          },
          "execution_count": 63
        }
      ]
    },
    {
      "metadata": {
        "colab_type": "code",
        "id": "VRfbwCUfAGy6",
        "outputId": "982c758d-9d3a-4879-a506-1f0e32cfc3c6",
        "colab": {
          "base_uri": "https://localhost:8080/",
          "height": 173
        }
      },
      "cell_type": "code",
      "source": [
        "score_acc_cnn = metrics.accuracy_score(y_true,pred_cnn_a)\n",
        "print(\"Accuracy score: {}\".format(score_cnn))\n",
        "\n",
        "score_precision_cnn = metrics.precision_score(y_true,pred_cnn_a, average= \"weighted\")\n",
        "print(\"Precision score: {}\".format(score_precision_cnn))\n",
        "\n",
        "score_recall_cnn = metrics.recall_score(y_true, pred_cnn_a, average= \"weighted\")\n",
        "print(\"Recall score: {}\".format(score_recall_cnn))\n",
        "\n",
        "score_f1_cnn = metrics.f1_score(y_true,pred_cnn_a, average= \"weighted\")\n",
        "print(\"F1 score: {}\".format(score_f1_cnn))"
      ],
      "execution_count": 0,
      "outputs": [
        {
          "output_type": "stream",
          "text": [
            "Accuracy score: [0.013202828231801592, 0.9973898409863654]\n",
            "Precision score: 0.9971259176083027\n",
            "Recall score: 0.9973898409863654\n",
            "F1 score: 0.9972168899020845\n"
          ],
          "name": "stdout"
        },
        {
          "output_type": "stream",
          "text": [
            "/usr/local/lib/python3.6/dist-packages/sklearn/metrics/classification.py:1143: UndefinedMetricWarning: Precision is ill-defined and being set to 0.0 in labels with no predicted samples.\n",
            "  'precision', 'predicted', average, warn_for)\n",
            "/usr/local/lib/python3.6/dist-packages/sklearn/metrics/classification.py:1143: UndefinedMetricWarning: F-score is ill-defined and being set to 0.0 in labels with no predicted samples.\n",
            "  'precision', 'predicted', average, warn_for)\n"
          ],
          "name": "stderr"
        }
      ]
    },
    {
      "metadata": {
        "colab_type": "code",
        "id": "KIYww1eHnKNn",
        "outputId": "f4b06f90-5f76-447e-d7c7-173a6a49f156",
        "colab": {
          "base_uri": "https://localhost:8080/",
          "height": 1555
        }
      },
      "cell_type": "code",
      "source": [
        "cm = confusion_matrix(y_true, pred_c)\n",
        "print(cm)\n",
        "\n",
        "\n",
        "print('Plotting confusion matrix')\n",
        "\n",
        "plt.figure()\n",
        "plot_confusion_matrix(cm,[0,1,2,3,4,5,6,7,8,9,10,11,12,13,14,15,16,17,18,19,20,21,22])\n",
        "plt.show()\n",
        "\n",
        "print(classification_report(y_true, pred_c))"
      ],
      "execution_count": 0,
      "outputs": [
        {
          "output_type": "stream",
          "text": [
            "[[  190     0     0     0     0     0     0     0     0     0     0     1\n",
            "      0     0     0     0     0     0     0     0]\n",
            " [    0     3     0     0     0     0     0     2     0     0     0     0\n",
            "      0     0     0     0     0     0     1     0]\n",
            " [    0     0     1     0     0     0     0     0     0     0     0     2\n",
            "      0     0     0     0     0     0     2     0]\n",
            " [    0     0     0    10     0     0     0     0     0     0     0     0\n",
            "      0     0     0     0     0     0     0     0]\n",
            " [    0     0     0     0     1     0     0     0     0     0     0     0\n",
            "      0     0     0     0     0     0     0     0]\n",
            " [    0     0     0     0     0   133     0     0     0     0     2     2\n",
            "      0     0     0     0     0     0     0     0]\n",
            " [    0     0     0     0     0     0     2     0     0     0     0     0\n",
            "      0     0     0     0     0     0     0     0]\n",
            " [    0     0     0     0     0     0     0     0     0     0     0     0\n",
            "      0     0     0     0     0     0     0     0]\n",
            " [    0     0     0     0     0     0     0     1     0     0     0     1\n",
            "      0     0     0     0     0     0     0     0]\n",
            " [    0     0     0     0     0     0     0     0     0 10357     0     0\n",
            "      0     0     0     0     0     0     0     0]\n",
            " [    0     0     0     0     0     3     0     0     0     0    28     5\n",
            "      0     0     0     2     0     0     0     0]\n",
            " [    0     0     0     0     0     1     0     0     0     0     0 17576\n",
            "      0     1     0     1     0     0    10     0]\n",
            " [    0     0     0     0     0     0     0     0     0     0     0     0\n",
            "     34     0     0     0     0     0     0     0]\n",
            " [    0     0     0     0     0     0     0     0     0     0     0     0\n",
            "      0    92     0     0     0     0     0     0]\n",
            " [    0     0     0     0     0     0     0     0     0     0     0     1\n",
            "      0     0     0     0     0     0     0     0]\n",
            " [    0     0     0     0     0     0     0     0     0     0     0     2\n",
            "      0     0     0   156     0     0     0     0]\n",
            " [    0     0     0     0     0     0     0     0     0     0     0     2\n",
            "      0     0     0     0   130     0     0     0]\n",
            " [    0     0     0     0     0     0     0     0     0     0     0     0\n",
            "      0     0     0     0     0   208     0     0]\n",
            " [    0     0     0     0     0     0     0     0     0     0     0     8\n",
            "      0     0     0     0     0     0   142     0]\n",
            " [    0     0     0     0     0     0     0     0     0     0     0     4\n",
            "      0     0     0     0     0     0     0     0]]\n",
            "Plotting confusion matrix\n"
          ],
          "name": "stdout"
        },
        {
          "output_type": "display_data",
          "data": {
            "image/png": "[encoded data removed]",
            "text/plain": [
              "<Figure size 432x288 with 2 Axes>"
            ]
          },
          "metadata": {
            "tags": []
          }
        },
        {
          "output_type": "stream",
          "text": [
            "              precision    recall  f1-score   support\n",
            "\n",
            "           0       1.00      0.99      1.00       191\n",
            "           1       1.00      0.50      0.67         6\n",
            "           2       1.00      0.20      0.33         5\n",
            "           3       1.00      1.00      1.00        10\n",
            "           4       1.00      1.00      1.00         1\n",
            "           5       0.97      0.97      0.97       137\n",
            "           6       1.00      1.00      1.00         2\n",
            "           7       0.00      0.00      0.00         0\n",
            "           8       0.00      0.00      0.00         2\n",
            "           9       1.00      1.00      1.00     10357\n",
            "          10       0.93      0.74      0.82        38\n",
            "          11       1.00      1.00      1.00     17589\n",
            "          14       1.00      1.00      1.00        34\n",
            "          15       0.99      1.00      0.99        92\n",
            "          16       0.00      0.00      0.00         1\n",
            "          17       0.98      0.99      0.98       158\n",
            "          18       1.00      0.98      0.99       132\n",
            "          20       1.00      1.00      1.00       208\n",
            "          21       0.92      0.95      0.93       150\n",
            "          22       0.00      0.00      0.00         4\n",
            "\n",
            "   micro avg       1.00      1.00      1.00     29117\n",
            "   macro avg       0.79      0.72      0.73     29117\n",
            "weighted avg       1.00      1.00      1.00     29117\n",
            "\n"
          ],
          "name": "stdout"
        },
        {
          "output_type": "stream",
          "text": [
            "/usr/local/lib/python3.6/dist-packages/sklearn/metrics/classification.py:1143: UndefinedMetricWarning: Precision and F-score are ill-defined and being set to 0.0 in labels with no predicted samples.\n",
            "  'precision', 'predicted', average, warn_for)\n",
            "/usr/local/lib/python3.6/dist-packages/sklearn/metrics/classification.py:1145: UndefinedMetricWarning: Recall and F-score are ill-defined and being set to 0.0 in labels with no true samples.\n",
            "  'recall', 'true', average, warn_for)\n"
          ],
          "name": "stderr"
        }
      ]
    }
  ]
}